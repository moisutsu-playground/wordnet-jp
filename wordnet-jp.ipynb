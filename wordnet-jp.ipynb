{
 "cells": [
  {
   "cell_type": "code",
   "execution_count": 2,
   "metadata": {},
   "outputs": [],
   "source": [
    "import json\n",
    "from pathlib import Path"
   ]
  },
  {
   "cell_type": "code",
   "execution_count": 3,
   "metadata": {},
   "outputs": [],
   "source": [
    "json_path = Path(\"data/wordnet-jp.json\")\n",
    "json_open = json_path.open()\n",
    "json_dict = json.load(json_open)"
   ]
  },
  {
   "cell_type": "code",
   "execution_count": 6,
   "metadata": {},
   "outputs": [
    {
     "data": {
      "text/plain": [
       "dict_keys(['LexicalResource'])"
      ]
     },
     "execution_count": 6,
     "metadata": {},
     "output_type": "execute_result"
    }
   ],
   "source": [
    "json_dict.keys()"
   ]
  },
  {
   "cell_type": "code",
   "execution_count": 7,
   "metadata": {},
   "outputs": [
    {
     "data": {
      "text/plain": [
       "3"
      ]
     },
     "execution_count": 7,
     "metadata": {},
     "output_type": "execute_result"
    }
   ],
   "source": [
    "len(json_dict[\"LexicalResource\"])"
   ]
  },
  {
   "cell_type": "code",
   "execution_count": 8,
   "metadata": {},
   "outputs": [
    {
     "data": {
      "text/plain": [
       "dict_keys(['GlobalInformation', 'Lexicon', 'SenseAxes'])"
      ]
     },
     "execution_count": 8,
     "metadata": {},
     "output_type": "execute_result"
    }
   ],
   "source": [
    "json_dict[\"LexicalResource\"].keys()"
   ]
  },
  {
   "cell_type": "code",
   "execution_count": 9,
   "metadata": {},
   "outputs": [
    {
     "data": {
      "text/plain": [
       "{'label': 'Japanese WordNet 1.1 by NICT'}"
      ]
     },
     "execution_count": 9,
     "metadata": {},
     "output_type": "execute_result"
    }
   ],
   "source": [
    "json_dict[\"LexicalResource\"][\"GlobalInformation\"]"
   ]
  },
  {
   "cell_type": "code",
   "execution_count": 11,
   "metadata": {},
   "outputs": [
    {
     "data": {
      "text/plain": [
       "dict_keys(['languageCoding', 'label', 'language', 'owner', 'version', 'LexicalEntry', 'Synset'])"
      ]
     },
     "execution_count": 11,
     "metadata": {},
     "output_type": "execute_result"
    }
   ],
   "source": [
    "json_dict[\"LexicalResource\"][\"Lexicon\"].keys()"
   ]
  },
  {
   "cell_type": "code",
   "execution_count": 12,
   "metadata": {},
   "outputs": [
    {
     "data": {
      "text/plain": [
       "93834"
      ]
     },
     "execution_count": 12,
     "metadata": {},
     "output_type": "execute_result"
    }
   ],
   "source": [
    "len(json_dict[\"LexicalResource\"][\"Lexicon\"][\"LexicalEntry\"])"
   ]
  },
  {
   "cell_type": "code",
   "execution_count": 13,
   "metadata": {},
   "outputs": [
    {
     "data": {
      "text/plain": [
       "112345"
      ]
     },
     "execution_count": 13,
     "metadata": {},
     "output_type": "execute_result"
    }
   ],
   "source": [
    "len(json_dict[\"LexicalResource\"][\"Lexicon\"][\"Synset\"])"
   ]
  },
  {
   "cell_type": "code",
   "execution_count": 16,
   "metadata": {},
   "outputs": [
    {
     "name": "stdout",
     "output_type": "stream",
     "text": [
      "languageCoding_len = 9\n",
      "label_len = 16\n",
      "language_len = 3\n",
      "owner_len = 4\n",
      "version_len = 3\n",
      "LexicalEntry_len = 93834\n",
      "Synset_len = 112345\n"
     ]
    }
   ],
   "source": [
    "for key in json_dict[\"LexicalResource\"][\"Lexicon\"].keys():\n",
    "    print(f\"\"\"{key}_len = {len(json_dict[\"LexicalResource\"][\"Lexicon\"][key])}\"\"\")"
   ]
  },
  {
   "cell_type": "code",
   "execution_count": 20,
   "metadata": {},
   "outputs": [
    {
     "data": {
      "text/plain": [
       "{'id': 'sa_jpn-1.1-0',\n",
       " 'relType': 'eq_synonym',\n",
       " 'Target': [{'ID': 'jpn-1.1-01785341-a'}, {'ID': 'eng-30-01785341-a'}]}"
      ]
     },
     "execution_count": 20,
     "metadata": {},
     "output_type": "execute_result"
    }
   ],
   "source": [
    "json_dict[\"LexicalResource\"][\"SenseAxes\"]['SenseAxis'][0]"
   ]
  },
  {
   "cell_type": "code",
   "execution_count": 40,
   "metadata": {},
   "outputs": [
    {
     "name": "stdout",
     "output_type": "stream",
     "text": [
      "{'writtenForm': '夜半', 'partOfSpeech': 'n'}\n",
      "{'writtenForm': '骨膜', 'partOfSpeech': 'n'}\n",
      "{'writtenForm': '応じる', 'partOfSpeech': 'v'}\n",
      "{'writtenForm': 'フレグランス', 'partOfSpeech': 'n'}\n",
      "{'writtenForm': '職掌', 'partOfSpeech': 'n'}\n",
      "{'writtenForm': '終始一貫して', 'partOfSpeech': 'r'}\n",
      "{'writtenForm': 'ノースカロライナ', 'partOfSpeech': 'n'}\n",
      "{'writtenForm': 'メセン', 'partOfSpeech': 'n'}\n",
      "{'writtenForm': '奥ゆかしげ', 'partOfSpeech': 'a'}\n",
      "{'writtenForm': '雄勁', 'partOfSpeech': 'n'}\n"
     ]
    }
   ],
   "source": [
    "for entry in json_dict[\"LexicalResource\"][\"Lexicon\"][\"LexicalEntry\"][:10]:\n",
    "    print(entry[\"Lemma\"])"
   ]
  },
  {
   "cell_type": "code",
   "execution_count": 43,
   "metadata": {},
   "outputs": [],
   "source": [
    "from importlib import reload"
   ]
  },
  {
   "cell_type": "code",
   "execution_count": 44,
   "metadata": {},
   "outputs": [],
   "source": [
    "import wordnet_db"
   ]
  },
  {
   "cell_type": "code",
   "execution_count": 63,
   "metadata": {},
   "outputs": [
    {
     "data": {
      "text/plain": [
       "['いぬ',\n",
       " 'まわし者',\n",
       " 'イヌ',\n",
       " 'スパイ',\n",
       " 'ドッグ',\n",
       " '回し者',\n",
       " '回者',\n",
       " '密偵',\n",
       " '工作員',\n",
       " '廻し者',\n",
       " '廻者',\n",
       " '探',\n",
       " '探り',\n",
       " '洋犬',\n",
       " '秘密捜査員',\n",
       " '諜報員',\n",
       " '諜者',\n",
       " '間者',\n",
       " '間諜',\n",
       " '隠密',\n",
       " '飼い犬',\n",
       " '飼犬']"
      ]
     },
     "execution_count": 63,
     "metadata": {},
     "output_type": "execute_result"
    }
   ],
   "source": [
    "reload(wordnet_db)\n",
    "getSynonym = wordnet_db.getSynonym\n",
    "getSynonym(\"犬\")"
   ]
  },
  {
   "cell_type": "code",
   "execution_count": 49,
   "metadata": {},
   "outputs": [],
   "source": [
    "reload(wordnet_db)\n",
    "getHypernym = wordnet_db.getHypernym\n",
    "getHypernym(\"犬\")"
   ]
  },
  {
   "cell_type": "code",
   "execution_count": null,
   "metadata": {},
   "outputs": [],
   "source": []
  },
  {
   "cell_type": "code",
   "execution_count": null,
   "metadata": {},
   "outputs": [],
   "source": []
  },
  {
   "cell_type": "code",
   "execution_count": null,
   "metadata": {},
   "outputs": [],
   "source": []
  },
  {
   "cell_type": "code",
   "execution_count": null,
   "metadata": {},
   "outputs": [],
   "source": []
  },
  {
   "cell_type": "code",
   "execution_count": null,
   "metadata": {},
   "outputs": [],
   "source": []
  },
  {
   "cell_type": "code",
   "execution_count": 50,
   "metadata": {},
   "outputs": [],
   "source": [
    "import sqlite3\n",
    "conn = sqlite3.connect(\"./data/wordnet-jp.db\")"
   ]
  },
  {
   "cell_type": "code",
   "execution_count": 51,
   "metadata": {},
   "outputs": [],
   "source": [
    "class node:\n",
    "    def __init__(self, name, children=None):\n",
    "        self.name = name  # String\n",
    "        self.children = children  # List of Class node\n",
    "\n",
    "    # 結果表示用\n",
    "    def display(self, indent = 0):\n",
    "        if self.children != None:\n",
    "            print(' '*indent + self.name)\n",
    "            for c in self.children:\n",
    "                c.display(indent+1)\n",
    "        else:\n",
    "            print(' '*indent + self.name)"
   ]
  },
  {
   "cell_type": "code",
   "execution_count": 52,
   "metadata": {},
   "outputs": [
    {
     "name": "stdout",
     "output_type": "stream",
     "text": [
      "上位語に含まれる単語の数 ： 20008\n",
      "上位語に含まれる単語の中で下位語に含まれない単語の数 ： 346\n"
     ]
    }
   ],
   "source": [
    "# 上位-下位の関係にある概念の抽出\n",
    "hierarchy_dict = {}  # key:上位語(String), value:下位語(List of String)\n",
    "n_term_set = set()  # 下位語に含まれる単語集合\n",
    "\n",
    "cur = conn.execute(\"select synset1,synset2 from synlink where link='hypo'\")  # 上位語-下位語の関係にあるものを抽出\n",
    "for row in cur:\n",
    "    b_term = row[0]\n",
    "    n_term = row[1]\n",
    "\n",
    "    if b_term not in hierarchy_dict:\n",
    "        hierarchy_dict[b_term] = []\n",
    "\n",
    "    hierarchy_dict[b_term].append(n_term) \n",
    "    n_term_set.add(n_term)\n",
    "\n",
    "print(\"上位語に含まれる単語の数 ： %s\" % len(hierarchy_dict))\n",
    "\n",
    "top_concepts = list(set(hierarchy_dict.keys()) - n_term_set)\n",
    "print(\"上位語に含まれる単語の中で下位語に含まれない単語の数 ： %s\" % len(top_concepts))"
   ]
  },
  {
   "cell_type": "code",
   "execution_count": 53,
   "metadata": {},
   "outputs": [
    {
     "name": "stdout",
     "output_type": "stream",
     "text": [
      "07125096-n : expletive\n"
     ]
    }
   ],
   "source": [
    "# synset(概念)のIDから、概念の名称に変換する辞書の作成\n",
    "synset_name_dict = {}  # key:synsetのID, value:synsetの名称\n",
    "cur = conn.execute(\"select synset,name from synset\")\n",
    "for row in cur:\n",
    "    synset_name_dict[row[0]] = row[1]\n",
    "for k,v in synset_name_dict.items():\n",
    "    print(\"%s : %s\" % (k,v))\n",
    "    break"
   ]
  },
  {
   "cell_type": "code",
   "execution_count": 60,
   "metadata": {},
   "outputs": [
    {
     "name": "stdout",
     "output_type": "stream",
     "text": [
      "measles => german_measles\n",
      "dwelling => cliff_dwelling condominium fixer-upper fireside hermitage homestead house pile_dwelling lodge messuage semi-detached_house vacation_home yurt\n",
      "acetum => chili_vinegar cider_vinegar wine_vinegar\n",
      "atomic_weapon => atom_bomb fusion_bomb megaton_bomb\n",
      "apnea => periodic_apnea_of_the_newborn sleep_apnea\n",
      "teashop => buttery\n",
      "oil_palm => african_oil_palm american_oil_palm\n",
      "blood_transfusion => exchange_transfusion\n",
      "cut_of_meat => joint confit chop chine leg side_of_meat forequarter hindquarter cut_of_beef rib entrecote shank shin brisket steak loin sirloin undercut neck shoulder cut_of_veal cut_of_mutton cut_of_lamb saddle rack cut_of_pork\n",
      "atomic_number => magic_number\n"
     ]
    }
   ],
   "source": [
    "for key in list(hierarchy_dict.keys())[:10]:\n",
    "    print(synset_name_dict[key], end=\" => \")\n",
    "    print(\" \".join([synset_name_dict[value] for value in hierarchy_dict[key]]))"
   ]
  },
  {
   "cell_type": "code",
   "execution_count": null,
   "metadata": {},
   "outputs": [],
   "source": []
  }
 ],
 "metadata": {
  "kernelspec": {
   "display_name": "Python 3",
   "language": "python",
   "name": "python3"
  },
  "language_info": {
   "codemirror_mode": {
    "name": "ipython",
    "version": 3
   },
   "file_extension": ".py",
   "mimetype": "text/x-python",
   "name": "python",
   "nbconvert_exporter": "python",
   "pygments_lexer": "ipython3",
   "version": "3.8.3"
  }
 },
 "nbformat": 4,
 "nbformat_minor": 4
}
